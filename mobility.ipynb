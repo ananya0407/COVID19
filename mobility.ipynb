{
 "cells": [
  {
   "cell_type": "code",
   "execution_count": 12,
   "metadata": {},
   "outputs": [],
   "source": [
    "import requests\n",
    "import json\n",
    "import csv\n",
    "import pandas as pd"
   ]
  },
  {
   "cell_type": "code",
   "execution_count": 13,
   "metadata": {},
   "outputs": [],
   "source": [
    "from pandas.io.json import json_normalize\n",
    "\n",
    "r2 = requests.get(' https://pastelsky.github.io/covid-19-mobility-tracker/output/IN/mobility.json')\n",
    "advice_result= r2.json()\n",
    "data=r2.text\n",
    "parsed = json.loads(data)[\"country\"][\"retailAndRecreation\"]\n",
    "x = pd.json_normalize(parsed['points']) "
   ]
  },
  {
   "cell_type": "code",
   "execution_count": 14,
   "metadata": {},
   "outputs": [],
   "source": [
    "x[\"Type\"]=\"Retail and Recreation\""
   ]
  },
  {
   "cell_type": "code",
   "execution_count": 15,
   "metadata": {},
   "outputs": [],
   "source": [
    "parsed = json.loads(data)[\"country\"][\"groceryAndPharmacy\"]\n",
    "x1 = pd.json_normalize(parsed['points']) "
   ]
  },
  {
   "cell_type": "code",
   "execution_count": 16,
   "metadata": {},
   "outputs": [],
   "source": [
    "x1[\"Type\"]=\"Grocery and Pharmacy\""
   ]
  },
  {
   "cell_type": "code",
   "execution_count": 17,
   "metadata": {},
   "outputs": [],
   "source": [
    "parsed = json.loads(data)[\"country\"][\"parks\"]\n",
    "x2 = pd.json_normalize(parsed['points']) \n",
    "x2[\"Type\"]=\"Parks\""
   ]
  },
  {
   "cell_type": "code",
   "execution_count": 18,
   "metadata": {},
   "outputs": [],
   "source": [
    "parsed = json.loads(data)[\"country\"][\"transitStations\"]\n",
    "x3 = pd.json_normalize(parsed['points']) \n",
    "x3[\"Type\"]=\"Transit Stations\""
   ]
  },
  {
   "cell_type": "code",
   "execution_count": 19,
   "metadata": {},
   "outputs": [],
   "source": [
    "parsed = json.loads(data)[\"country\"][\"workplaces\"]\n",
    "x4 = pd.json_normalize(parsed['points']) \n",
    "x4[\"Type\"]=\"Work Places\""
   ]
  },
  {
   "cell_type": "code",
   "execution_count": 20,
   "metadata": {},
   "outputs": [],
   "source": [
    "parsed = json.loads(data)[\"country\"][\"residential\"]\n",
    "x5 = pd.json_normalize(parsed['points']) \n",
    "x5[\"Type\"]=\"Residential\""
   ]
  },
  {
   "cell_type": "code",
   "execution_count": 21,
   "metadata": {},
   "outputs": [],
   "source": [
    "df=pd.concat([x,x1,x2,x3,x4,x5],axis=0)"
   ]
  },
  {
   "cell_type": "code",
   "execution_count": 22,
   "metadata": {},
   "outputs": [],
   "source": [
    "data_file = open('data_file.csv', 'w')\n",
    "csv_writer = csv.writer(data_file) \n",
    "df1 = pd.DataFrame(df)\n",
    "df1.to_csv('mobility.csv', index=False)"
   ]
  },
  {
   "cell_type": "code",
   "execution_count": null,
   "metadata": {},
   "outputs": [],
   "source": []
  }
 ],
 "metadata": {
  "kernelspec": {
   "display_name": "Python 3",
   "language": "python",
   "name": "python3"
  },
  "language_info": {
   "codemirror_mode": {
    "name": "ipython",
    "version": 3
   },
   "file_extension": ".py",
   "mimetype": "text/x-python",
   "name": "python",
   "nbconvert_exporter": "python",
   "pygments_lexer": "ipython3",
   "version": "3.6.4"
  }
 },
 "nbformat": 4,
 "nbformat_minor": 2
}
